{
 "cells": [
  {
   "cell_type": "code",
   "execution_count": 1,
   "metadata": {},
   "outputs": [],
   "source": [
    "import pandas as pd\n",
    "import numpy as np\n",
    "import matplotlib.pyplot as plt\n",
    "import scipy.stats as sts\n",
    "import statistics\n",
    "import ssl\n",
    "import random"
   ]
  },
  {
   "cell_type": "code",
   "execution_count": 2,
   "metadata": {},
   "outputs": [],
   "source": [
    "df=pd.read_csv(\"FilmTV_dataset.csv\")"
   ]
  },
  {
   "cell_type": "code",
   "execution_count": 3,
   "metadata": {},
   "outputs": [
    {
     "data": {
      "text/html": [
       "<div>\n",
       "<style scoped>\n",
       "    .dataframe tbody tr th:only-of-type {\n",
       "        vertical-align: middle;\n",
       "    }\n",
       "\n",
       "    .dataframe tbody tr th {\n",
       "        vertical-align: top;\n",
       "    }\n",
       "\n",
       "    .dataframe thead th {\n",
       "        text-align: right;\n",
       "    }\n",
       "</style>\n",
       "<table border=\"1\" class=\"dataframe\">\n",
       "  <thead>\n",
       "    <tr style=\"text-align: right;\">\n",
       "      <th></th>\n",
       "      <th>filmtv_ID</th>\n",
       "      <th>film_title</th>\n",
       "      <th>year</th>\n",
       "      <th>genre</th>\n",
       "      <th>duration</th>\n",
       "      <th>country</th>\n",
       "      <th>director</th>\n",
       "      <th>actors</th>\n",
       "      <th>avg_vote</th>\n",
       "      <th>votes</th>\n",
       "    </tr>\n",
       "  </thead>\n",
       "  <tbody>\n",
       "    <tr>\n",
       "      <th>0</th>\n",
       "      <td>2</td>\n",
       "      <td>Bugs Bunny's Third Movie: 1001 Rabbit Tales</td>\n",
       "      <td>1982</td>\n",
       "      <td>Animation</td>\n",
       "      <td>76</td>\n",
       "      <td>United States</td>\n",
       "      <td>David Detiege, Art Davis, Bill Perez</td>\n",
       "      <td>NaN</td>\n",
       "      <td>7.7</td>\n",
       "      <td>28</td>\n",
       "    </tr>\n",
       "    <tr>\n",
       "      <th>1</th>\n",
       "      <td>3</td>\n",
       "      <td>18 anni tra una settimana</td>\n",
       "      <td>1991</td>\n",
       "      <td>Drama</td>\n",
       "      <td>98</td>\n",
       "      <td>Italy</td>\n",
       "      <td>Luigi Perelli</td>\n",
       "      <td>Kim Rossi Stuart, Simona Cavallari, Ennio Fant...</td>\n",
       "      <td>7.0</td>\n",
       "      <td>3</td>\n",
       "    </tr>\n",
       "    <tr>\n",
       "      <th>2</th>\n",
       "      <td>17</td>\n",
       "      <td>Ride a Wild Pony</td>\n",
       "      <td>1976</td>\n",
       "      <td>Romantic</td>\n",
       "      <td>91</td>\n",
       "      <td>United States</td>\n",
       "      <td>Don Chaffey</td>\n",
       "      <td>Michael Craig, John Meillon, Eva Griffith, Gra...</td>\n",
       "      <td>5.6</td>\n",
       "      <td>10</td>\n",
       "    </tr>\n",
       "    <tr>\n",
       "      <th>3</th>\n",
       "      <td>18</td>\n",
       "      <td>Diner</td>\n",
       "      <td>1982</td>\n",
       "      <td>Comedy</td>\n",
       "      <td>95</td>\n",
       "      <td>United States</td>\n",
       "      <td>Barry Levinson</td>\n",
       "      <td>Mickey Rourke, Steve Guttenberg, Ellen Barkin</td>\n",
       "      <td>7.1</td>\n",
       "      <td>14</td>\n",
       "    </tr>\n",
       "    <tr>\n",
       "      <th>4</th>\n",
       "      <td>20</td>\n",
       "      <td>A che servono questi quattrini?</td>\n",
       "      <td>1942</td>\n",
       "      <td>Comedy</td>\n",
       "      <td>85</td>\n",
       "      <td>Italy</td>\n",
       "      <td>Esodo Pratelli</td>\n",
       "      <td>Eduardo De Filippo, Peppino De Filippo, Clelia...</td>\n",
       "      <td>5.9</td>\n",
       "      <td>12</td>\n",
       "    </tr>\n",
       "  </tbody>\n",
       "</table>\n",
       "</div>"
      ],
      "text/plain": [
       "   filmtv_ID                                   film_title  year      genre  \\\n",
       "0          2  Bugs Bunny's Third Movie: 1001 Rabbit Tales  1982  Animation   \n",
       "1          3                    18 anni tra una settimana  1991      Drama   \n",
       "2         17                             Ride a Wild Pony  1976   Romantic   \n",
       "3         18                                        Diner  1982     Comedy   \n",
       "4         20              A che servono questi quattrini?  1942     Comedy   \n",
       "\n",
       "   duration        country                              director  \\\n",
       "0        76  United States  David Detiege, Art Davis, Bill Perez   \n",
       "1        98          Italy                         Luigi Perelli   \n",
       "2        91  United States                           Don Chaffey   \n",
       "3        95  United States                        Barry Levinson   \n",
       "4        85          Italy                        Esodo Pratelli   \n",
       "\n",
       "                                              actors  avg_vote  votes  \n",
       "0                                                NaN       7.7     28  \n",
       "1  Kim Rossi Stuart, Simona Cavallari, Ennio Fant...       7.0      3  \n",
       "2  Michael Craig, John Meillon, Eva Griffith, Gra...       5.6     10  \n",
       "3      Mickey Rourke, Steve Guttenberg, Ellen Barkin       7.1     14  \n",
       "4  Eduardo De Filippo, Peppino De Filippo, Clelia...       5.9     12  "
      ]
     },
     "execution_count": 3,
     "metadata": {},
     "output_type": "execute_result"
    }
   ],
   "source": [
    "df.head()"
   ]
  },
  {
   "cell_type": "code",
   "execution_count": 4,
   "metadata": {},
   "outputs": [
    {
     "name": "stdout",
     "output_type": "stream",
     "text": [
      "<class 'pandas.core.frame.DataFrame'>\n",
      "RangeIndex: 46907 entries, 0 to 46906\n",
      "Data columns (total 10 columns):\n",
      " #   Column      Non-Null Count  Dtype  \n",
      "---  ------      --------------  -----  \n",
      " 0   filmtv_ID   46907 non-null  int64  \n",
      " 1   film_title  46907 non-null  object \n",
      " 2   year        46907 non-null  int64  \n",
      " 3   genre       46736 non-null  object \n",
      " 4   duration    46907 non-null  int64  \n",
      " 5   country     46868 non-null  object \n",
      " 6   director    46904 non-null  object \n",
      " 7   actors      46778 non-null  object \n",
      " 8   avg_vote    46907 non-null  float64\n",
      " 9   votes       46907 non-null  int64  \n",
      "dtypes: float64(1), int64(4), object(5)\n",
      "memory usage: 3.6+ MB\n"
     ]
    }
   ],
   "source": [
    "df.info()"
   ]
  },
  {
   "cell_type": "markdown",
   "metadata": {},
   "source": [
    "В столбце actors заполнены не все ячейки (строка 0). Также в данном столбце, данные не одинаковой длины. Но несмотря на это, они описаны максимально полно. Данные не полные, так как столбец actors не полностью заполнен."
   ]
  },
  {
   "cell_type": "code",
   "execution_count": 5,
   "metadata": {},
   "outputs": [
    {
     "data": {
      "text/html": [
       "<div>\n",
       "<style scoped>\n",
       "    .dataframe tbody tr th:only-of-type {\n",
       "        vertical-align: middle;\n",
       "    }\n",
       "\n",
       "    .dataframe tbody tr th {\n",
       "        vertical-align: top;\n",
       "    }\n",
       "\n",
       "    .dataframe thead th {\n",
       "        text-align: right;\n",
       "    }\n",
       "</style>\n",
       "<table border=\"1\" class=\"dataframe\">\n",
       "  <thead>\n",
       "    <tr style=\"text-align: right;\">\n",
       "      <th></th>\n",
       "      <th>filmtv_ID</th>\n",
       "      <th>film_title</th>\n",
       "      <th>year</th>\n",
       "      <th>genre</th>\n",
       "      <th>duration</th>\n",
       "      <th>country</th>\n",
       "      <th>director</th>\n",
       "      <th>actors</th>\n",
       "      <th>avg_vote</th>\n",
       "      <th>votes</th>\n",
       "    </tr>\n",
       "  </thead>\n",
       "  <tbody>\n",
       "    <tr>\n",
       "      <th>1</th>\n",
       "      <td>3</td>\n",
       "      <td>18 anni tra una settimana</td>\n",
       "      <td>1991</td>\n",
       "      <td>Drama</td>\n",
       "      <td>98</td>\n",
       "      <td>Italy</td>\n",
       "      <td>Luigi Perelli</td>\n",
       "      <td>Kim Rossi Stuart, Simona Cavallari, Ennio Fant...</td>\n",
       "      <td>7.0</td>\n",
       "      <td>3</td>\n",
       "    </tr>\n",
       "    <tr>\n",
       "      <th>2</th>\n",
       "      <td>17</td>\n",
       "      <td>Ride a Wild Pony</td>\n",
       "      <td>1976</td>\n",
       "      <td>Romantic</td>\n",
       "      <td>91</td>\n",
       "      <td>United States</td>\n",
       "      <td>Don Chaffey</td>\n",
       "      <td>Michael Craig, John Meillon, Eva Griffith, Gra...</td>\n",
       "      <td>5.6</td>\n",
       "      <td>10</td>\n",
       "    </tr>\n",
       "    <tr>\n",
       "      <th>3</th>\n",
       "      <td>18</td>\n",
       "      <td>Diner</td>\n",
       "      <td>1982</td>\n",
       "      <td>Comedy</td>\n",
       "      <td>95</td>\n",
       "      <td>United States</td>\n",
       "      <td>Barry Levinson</td>\n",
       "      <td>Mickey Rourke, Steve Guttenberg, Ellen Barkin</td>\n",
       "      <td>7.1</td>\n",
       "      <td>14</td>\n",
       "    </tr>\n",
       "    <tr>\n",
       "      <th>4</th>\n",
       "      <td>20</td>\n",
       "      <td>A che servono questi quattrini?</td>\n",
       "      <td>1942</td>\n",
       "      <td>Comedy</td>\n",
       "      <td>85</td>\n",
       "      <td>Italy</td>\n",
       "      <td>Esodo Pratelli</td>\n",
       "      <td>Eduardo De Filippo, Peppino De Filippo, Clelia...</td>\n",
       "      <td>5.9</td>\n",
       "      <td>12</td>\n",
       "    </tr>\n",
       "    <tr>\n",
       "      <th>5</th>\n",
       "      <td>21</td>\n",
       "      <td>The Uranian Conspiracy</td>\n",
       "      <td>1978</td>\n",
       "      <td>Spy</td>\n",
       "      <td>117</td>\n",
       "      <td>Italy, Germany, Israel</td>\n",
       "      <td>Gianfranco Baldanello, Menahem Golan</td>\n",
       "      <td>Fabio Testi, Janet Agren</td>\n",
       "      <td>5.0</td>\n",
       "      <td>2</td>\n",
       "    </tr>\n",
       "    <tr>\n",
       "      <th>...</th>\n",
       "      <td>...</td>\n",
       "      <td>...</td>\n",
       "      <td>...</td>\n",
       "      <td>...</td>\n",
       "      <td>...</td>\n",
       "      <td>...</td>\n",
       "      <td>...</td>\n",
       "      <td>...</td>\n",
       "      <td>...</td>\n",
       "      <td>...</td>\n",
       "    </tr>\n",
       "    <tr>\n",
       "      <th>46902</th>\n",
       "      <td>162511</td>\n",
       "      <td>Clowntergeist</td>\n",
       "      <td>2017</td>\n",
       "      <td>Horror</td>\n",
       "      <td>80</td>\n",
       "      <td>United States</td>\n",
       "      <td>Aaron Mirtes</td>\n",
       "      <td>Aaron Mirtes, Brittany Belland, Monica Baker, ...</td>\n",
       "      <td>6.0</td>\n",
       "      <td>1</td>\n",
       "    </tr>\n",
       "    <tr>\n",
       "      <th>46903</th>\n",
       "      <td>162533</td>\n",
       "      <td>Vampirella</td>\n",
       "      <td>1996</td>\n",
       "      <td>Action</td>\n",
       "      <td>82</td>\n",
       "      <td>United States</td>\n",
       "      <td>Jim Wynorski</td>\n",
       "      <td>Talisa Soto, Roger Daltrey, Richard Joseph Pau...</td>\n",
       "      <td>5.0</td>\n",
       "      <td>1</td>\n",
       "    </tr>\n",
       "    <tr>\n",
       "      <th>46904</th>\n",
       "      <td>162711</td>\n",
       "      <td>Circus of the Dead</td>\n",
       "      <td>2017</td>\n",
       "      <td>Action</td>\n",
       "      <td>102</td>\n",
       "      <td>United States</td>\n",
       "      <td>Billy 'Bloody Bill' Pon</td>\n",
       "      <td>Bill Oberst Jr., Parrish Randall, Chanel Ryan,...</td>\n",
       "      <td>8.0</td>\n",
       "      <td>1</td>\n",
       "    </tr>\n",
       "    <tr>\n",
       "      <th>46905</th>\n",
       "      <td>162713</td>\n",
       "      <td>Fear of Clowns</td>\n",
       "      <td>2004</td>\n",
       "      <td>Horror</td>\n",
       "      <td>106</td>\n",
       "      <td>United States</td>\n",
       "      <td>Kevin Kangas</td>\n",
       "      <td>Rick Ganz, Jacqueline Reres, Mark Lassise, Car...</td>\n",
       "      <td>2.0</td>\n",
       "      <td>1</td>\n",
       "    </tr>\n",
       "    <tr>\n",
       "      <th>46906</th>\n",
       "      <td>162717</td>\n",
       "      <td>Obscure Pleasures: A Portrait of Walerian Boro...</td>\n",
       "      <td>2013</td>\n",
       "      <td>Documentary</td>\n",
       "      <td>65</td>\n",
       "      <td>Poland, Great Britain</td>\n",
       "      <td>Daniel Bird</td>\n",
       "      <td>Walerian Borowczyk</td>\n",
       "      <td>7.0</td>\n",
       "      <td>1</td>\n",
       "    </tr>\n",
       "  </tbody>\n",
       "</table>\n",
       "<p>46778 rows × 10 columns</p>\n",
       "</div>"
      ],
      "text/plain": [
       "       filmtv_ID                                         film_title  year  \\\n",
       "1              3                          18 anni tra una settimana  1991   \n",
       "2             17                                   Ride a Wild Pony  1976   \n",
       "3             18                                              Diner  1982   \n",
       "4             20                    A che servono questi quattrini?  1942   \n",
       "5             21                             The Uranian Conspiracy  1978   \n",
       "...          ...                                                ...   ...   \n",
       "46902     162511                                      Clowntergeist  2017   \n",
       "46903     162533                                         Vampirella  1996   \n",
       "46904     162711                                 Circus of the Dead  2017   \n",
       "46905     162713                                     Fear of Clowns  2004   \n",
       "46906     162717  Obscure Pleasures: A Portrait of Walerian Boro...  2013   \n",
       "\n",
       "             genre  duration                 country  \\\n",
       "1            Drama        98                   Italy   \n",
       "2         Romantic        91           United States   \n",
       "3           Comedy        95           United States   \n",
       "4           Comedy        85                   Italy   \n",
       "5              Spy       117  Italy, Germany, Israel   \n",
       "...            ...       ...                     ...   \n",
       "46902       Horror        80           United States   \n",
       "46903       Action        82           United States   \n",
       "46904       Action       102           United States   \n",
       "46905       Horror       106           United States   \n",
       "46906  Documentary        65   Poland, Great Britain   \n",
       "\n",
       "                                   director  \\\n",
       "1                             Luigi Perelli   \n",
       "2                               Don Chaffey   \n",
       "3                            Barry Levinson   \n",
       "4                            Esodo Pratelli   \n",
       "5      Gianfranco Baldanello, Menahem Golan   \n",
       "...                                     ...   \n",
       "46902                          Aaron Mirtes   \n",
       "46903                          Jim Wynorski   \n",
       "46904               Billy 'Bloody Bill' Pon   \n",
       "46905                          Kevin Kangas   \n",
       "46906                           Daniel Bird   \n",
       "\n",
       "                                                  actors  avg_vote  votes  \n",
       "1      Kim Rossi Stuart, Simona Cavallari, Ennio Fant...       7.0      3  \n",
       "2      Michael Craig, John Meillon, Eva Griffith, Gra...       5.6     10  \n",
       "3          Mickey Rourke, Steve Guttenberg, Ellen Barkin       7.1     14  \n",
       "4      Eduardo De Filippo, Peppino De Filippo, Clelia...       5.9     12  \n",
       "5                               Fabio Testi, Janet Agren       5.0      2  \n",
       "...                                                  ...       ...    ...  \n",
       "46902  Aaron Mirtes, Brittany Belland, Monica Baker, ...       6.0      1  \n",
       "46903  Talisa Soto, Roger Daltrey, Richard Joseph Pau...       5.0      1  \n",
       "46904  Bill Oberst Jr., Parrish Randall, Chanel Ryan,...       8.0      1  \n",
       "46905  Rick Ganz, Jacqueline Reres, Mark Lassise, Car...       2.0      1  \n",
       "46906                                 Walerian Borowczyk       7.0      1  \n",
       "\n",
       "[46778 rows x 10 columns]"
      ]
     },
     "execution_count": 5,
     "metadata": {},
     "output_type": "execute_result"
    }
   ],
   "source": [
    "df[~df['actors'].isnull()]"
   ]
  },
  {
   "cell_type": "code",
   "execution_count": 6,
   "metadata": {},
   "outputs": [
    {
     "name": "stdout",
     "output_type": "stream",
     "text": [
      "Количество записей, где столбец actors пустой: 129\n"
     ]
    }
   ],
   "source": [
    "x = df['actors'].isnull().sum()\n",
    "print('Количество записей, где столбец actors пустой:', x)"
   ]
  },
  {
   "cell_type": "markdown",
   "metadata": {},
   "source": [
    "## Мат.ожидание"
   ]
  },
  {
   "cell_type": "code",
   "execution_count": 8,
   "metadata": {},
   "outputs": [
    {
     "data": {
      "image/png": "[encoded data removed]",
      "text/plain": [
       "<Figure size 432x288 with 1 Axes>"
      ]
     },
     "metadata": {
      "needs_background": "light"
     },
     "output_type": "display_data"
    }
   ],
   "source": [
    "duration = df['duration']\n",
    "votes = df['votes']\n",
    "fig, ax = plt.subplots()\n",
    "ax.scatter(duration, votes, c='red', alpha=0.3, edgecolors='none')\n",
    "\n",
    "ax.grid(True)\n",
    "plt.xlabel('duration')\n",
    "plt.ylabel('votes')\n",
    "plt.title('Точечный график')\n",
    "plt.show()"
   ]
  },
  {
   "cell_type": "markdown",
   "metadata": {},
   "source": [
    "## Среднее значение"
   ]
  },
  {
   "cell_type": "code",
   "execution_count": 9,
   "metadata": {},
   "outputs": [
    {
     "name": "stdout",
     "output_type": "stream",
     "text": [
      "Среднее:  99.231\n"
     ]
    }
   ],
   "source": [
    "avg = sum(df['duration'])/len(df['duration'])\n",
    "print('Среднее: ', round(avg, 3))"
   ]
  },
  {
   "cell_type": "markdown",
   "metadata": {},
   "source": [
    "## Медиана"
   ]
  },
  {
   "cell_type": "code",
   "execution_count": 10,
   "metadata": {},
   "outputs": [
    {
     "name": "stdout",
     "output_type": "stream",
     "text": [
      "Медиана:  95\n"
     ]
    }
   ],
   "source": [
    "print('Медиана: ', statistics.median(df['duration']))"
   ]
  },
  {
   "cell_type": "markdown",
   "metadata": {},
   "source": [
    "## Отклонение"
   ]
  },
  {
   "cell_type": "code",
   "execution_count": 11,
   "metadata": {},
   "outputs": [
    {
     "name": "stdout",
     "output_type": "stream",
     "text": [
      "Отклонение:  34.959\n"
     ]
    }
   ],
   "source": [
    "so = statistics.pstdev(df['duration'])\n",
    "print('Отклонение: ', round(so, 3))"
   ]
  },
  {
   "cell_type": "markdown",
   "metadata": {},
   "source": [
    "## Дисперсия"
   ]
  },
  {
   "cell_type": "code",
   "execution_count": 12,
   "metadata": {},
   "outputs": [
    {
     "name": "stdout",
     "output_type": "stream",
     "text": [
      "Дисперсия:  1222.104\n"
     ]
    }
   ],
   "source": [
    "print('Дисперсия: ', round(so**2, 3))"
   ]
  },
  {
   "cell_type": "markdown",
   "metadata": {},
   "source": [
    "## Мода"
   ]
  },
  {
   "cell_type": "code",
   "execution_count": 13,
   "metadata": {},
   "outputs": [
    {
     "name": "stdout",
     "output_type": "stream",
     "text": [
      "Мода:  90\n"
     ]
    }
   ],
   "source": [
    "print('Мода: ', statistics.mode(duration))"
   ]
  },
  {
   "cell_type": "markdown",
   "metadata": {},
   "source": [
    "Медиана не равна среднему значению. Мода меньше и медианы и среднего"
   ]
  },
  {
   "cell_type": "markdown",
   "metadata": {},
   "source": [
    "## Минимум, максимум и размах"
   ]
  },
  {
   "cell_type": "code",
   "execution_count": 14,
   "metadata": {},
   "outputs": [
    {
     "name": "stdout",
     "output_type": "stream",
     "text": [
      "Минимум:  40\n",
      "Максимум:  5280\n",
      "Размах:  5240\n"
     ]
    }
   ],
   "source": [
    "mind = min(duration)\n",
    "maxd = max(duration)\n",
    "\n",
    "print('Минимум: ', mind)\n",
    "print('Максимум: ', maxd)\n",
    "print('Размах: ', maxd-mind)"
   ]
  },
  {
   "cell_type": "markdown",
   "metadata": {},
   "source": [
    "## Выбросы"
   ]
  },
  {
   "cell_type": "code",
   "execution_count": 15,
   "metadata": {},
   "outputs": [
    {
     "data": {
      "image/png": "[encoded data removed]",
      "text/plain": [
       "<Figure size 432x288 with 1 Axes>"
      ]
     },
     "metadata": {
      "needs_background": "light"
     },
     "output_type": "display_data"
    }
   ],
   "source": [
    "duration = df['duration']\n",
    "year = df['year']\n",
    "fig, ax = plt.subplots()\n",
    "ax.scatter(duration, year, c='red', alpha=0.3, edgecolors='none')\n",
    "\n",
    "ax.grid(True)\n",
    "plt.xlabel('duration')\n",
    "plt.ylabel('year')\n",
    "plt.show()"
   ]
  },
  {
   "cell_type": "code",
   "execution_count": 16,
   "metadata": {},
   "outputs": [
    {
     "name": "stdout",
     "output_type": "stream",
     "text": [
      "Нормированное отклонение:  148.19724547272352\n",
      "Размер:  469070\n",
      "Пороги: tau 5% =  0.0028617722913964376 , tau 0.1% =  0.0048182176826148185\n",
      "Длительность 600 аномальна\n"
     ]
    }
   ],
   "source": [
    "t = abs(maxd-avg)/so\n",
    "print('Нормированное отклонение: ', t)\n",
    "\n",
    "alfa = 0.05\n",
    "t5 = 1.96\n",
    "t01 = 3.3\n",
    "\n",
    "n = df.size\n",
    "print('Размер: ', n)\n",
    "\n",
    "tau5=(t5*(n-1)**0.5)/((n-2)+t5*t5)\n",
    "tau01=(t01*(n-1)**0.5)/((n-2)+t01*t01)\n",
    "print('Пороги: tau 5% = ', tau5, ', tau 0.1% = ', tau01)\n",
    "\n",
    "if t < tau5:\n",
    "    print('Длительность 600 не аномальна')\n",
    "if t > tau01:\n",
    "    print('Длительность 600 аномальна')"
   ]
  },
  {
   "cell_type": "code",
   "execution_count": 17,
   "metadata": {},
   "outputs": [
    {
     "data": {
      "text/html": [
       "<div>\n",
       "<style scoped>\n",
       "    .dataframe tbody tr th:only-of-type {\n",
       "        vertical-align: middle;\n",
       "    }\n",
       "\n",
       "    .dataframe tbody tr th {\n",
       "        vertical-align: top;\n",
       "    }\n",
       "\n",
       "    .dataframe thead th {\n",
       "        text-align: right;\n",
       "    }\n",
       "</style>\n",
       "<table border=\"1\" class=\"dataframe\">\n",
       "  <thead>\n",
       "    <tr style=\"text-align: right;\">\n",
       "      <th></th>\n",
       "      <th>filmtv_ID</th>\n",
       "      <th>film_title</th>\n",
       "      <th>year</th>\n",
       "      <th>genre</th>\n",
       "      <th>duration</th>\n",
       "      <th>country</th>\n",
       "      <th>director</th>\n",
       "      <th>actors</th>\n",
       "      <th>avg_vote</th>\n",
       "      <th>votes</th>\n",
       "    </tr>\n",
       "  </thead>\n",
       "  <tbody>\n",
       "    <tr>\n",
       "      <th>23844</th>\n",
       "      <td>27983</td>\n",
       "      <td>Heimat - Eine Chronik in elf Teilen</td>\n",
       "      <td>1984</td>\n",
       "      <td>Drama</td>\n",
       "      <td>924</td>\n",
       "      <td>Germany</td>\n",
       "      <td>Edgar Reitz</td>\n",
       "      <td>Marita Breuer, Gertrud Bredel, Michael Lesch, ...</td>\n",
       "      <td>9.0</td>\n",
       "      <td>39</td>\n",
       "    </tr>\n",
       "    <tr>\n",
       "      <th>23845</th>\n",
       "      <td>27984</td>\n",
       "      <td>Die Zweite Heimat - Chronik einer Jugend</td>\n",
       "      <td>1992</td>\n",
       "      <td>Drama</td>\n",
       "      <td>1525</td>\n",
       "      <td>Germany</td>\n",
       "      <td>Edgar Reitz</td>\n",
       "      <td>Henry Arnold, Salome Kammer, Anke Sevenich, No...</td>\n",
       "      <td>9.2</td>\n",
       "      <td>17</td>\n",
       "    </tr>\n",
       "    <tr>\n",
       "      <th>23846</th>\n",
       "      <td>27985</td>\n",
       "      <td>Out 1: Noli me tangere</td>\n",
       "      <td>1971</td>\n",
       "      <td>Drama</td>\n",
       "      <td>729</td>\n",
       "      <td>France</td>\n",
       "      <td>Jacques Rivette</td>\n",
       "      <td>Pierre Baillot, Juliet Berto, Marcel Bonozet, ...</td>\n",
       "      <td>7.8</td>\n",
       "      <td>8</td>\n",
       "    </tr>\n",
       "    <tr>\n",
       "      <th>24019</th>\n",
       "      <td>28193</td>\n",
       "      <td>Heimat 3 - Chronik einer Zeitenwende</td>\n",
       "      <td>2004</td>\n",
       "      <td>Drama</td>\n",
       "      <td>680</td>\n",
       "      <td>Germany</td>\n",
       "      <td>Edgar Reitz</td>\n",
       "      <td>Henry Arnold, Salome Kammer, Michael Kausch He...</td>\n",
       "      <td>8.2</td>\n",
       "      <td>15</td>\n",
       "    </tr>\n",
       "    <tr>\n",
       "      <th>27462</th>\n",
       "      <td>35131</td>\n",
       "      <td>Gli ultimi giorni di Pompei</td>\n",
       "      <td>1984</td>\n",
       "      <td>Drama</td>\n",
       "      <td>1470</td>\n",
       "      <td>Italy, Great Britain, United States</td>\n",
       "      <td>Peter R. Hunt</td>\n",
       "      <td>Olivia Hussey, Ernest Borgnine, Lesley-Anne Do...</td>\n",
       "      <td>6.0</td>\n",
       "      <td>1</td>\n",
       "    </tr>\n",
       "    <tr>\n",
       "      <th>27639</th>\n",
       "      <td>35647</td>\n",
       "      <td>Farscape</td>\n",
       "      <td>1999</td>\n",
       "      <td>Adventure</td>\n",
       "      <td>5280</td>\n",
       "      <td>United States</td>\n",
       "      <td>Geoff Bennett, Tony Tilse, Ian Watson</td>\n",
       "      <td>Ben Browder, Virginia Hey, Wayne Pigram, Claud...</td>\n",
       "      <td>8.0</td>\n",
       "      <td>1</td>\n",
       "    </tr>\n",
       "    <tr>\n",
       "      <th>39271</th>\n",
       "      <td>63245</td>\n",
       "      <td>The Untold History of the United States</td>\n",
       "      <td>2012</td>\n",
       "      <td>Documentary</td>\n",
       "      <td>713</td>\n",
       "      <td>United States</td>\n",
       "      <td>Oliver Stone</td>\n",
       "      <td>Oliver Stone, Alan Shearman, Jim Ward, André S...</td>\n",
       "      <td>8.5</td>\n",
       "      <td>6</td>\n",
       "    </tr>\n",
       "    <tr>\n",
       "      <th>41240</th>\n",
       "      <td>72587</td>\n",
       "      <td>Äkta människor</td>\n",
       "      <td>2012</td>\n",
       "      <td>Drama</td>\n",
       "      <td>1200</td>\n",
       "      <td>Sweden</td>\n",
       "      <td>Lars Lundström</td>\n",
       "      <td>Lisette Pagler, Pia Halvorsen, Johan Paulsen, ...</td>\n",
       "      <td>8.0</td>\n",
       "      <td>2</td>\n",
       "    </tr>\n",
       "    <tr>\n",
       "      <th>42871</th>\n",
       "      <td>80848</td>\n",
       "      <td>Band of Brothers</td>\n",
       "      <td>2001</td>\n",
       "      <td>War</td>\n",
       "      <td>705</td>\n",
       "      <td>Great Britain, United States</td>\n",
       "      <td>Phil Alden Robinson, Richard Loncraine, Mikael...</td>\n",
       "      <td>Scott Grimes, Matthew Leitch, Damian Lewis, Ro...</td>\n",
       "      <td>8.4</td>\n",
       "      <td>23</td>\n",
       "    </tr>\n",
       "  </tbody>\n",
       "</table>\n",
       "</div>"
      ],
      "text/plain": [
       "       filmtv_ID                                film_title  year        genre  \\\n",
       "23844      27983       Heimat - Eine Chronik in elf Teilen  1984        Drama   \n",
       "23845      27984  Die Zweite Heimat - Chronik einer Jugend  1992        Drama   \n",
       "23846      27985                    Out 1: Noli me tangere  1971        Drama   \n",
       "24019      28193      Heimat 3 - Chronik einer Zeitenwende  2004        Drama   \n",
       "27462      35131               Gli ultimi giorni di Pompei  1984        Drama   \n",
       "27639      35647                                  Farscape  1999    Adventure   \n",
       "39271      63245   The Untold History of the United States  2012  Documentary   \n",
       "41240      72587                            Äkta människor  2012        Drama   \n",
       "42871      80848                          Band of Brothers  2001          War   \n",
       "\n",
       "       duration                              country  \\\n",
       "23844       924                              Germany   \n",
       "23845      1525                              Germany   \n",
       "23846       729                               France   \n",
       "24019       680                              Germany   \n",
       "27462      1470  Italy, Great Britain, United States   \n",
       "27639      5280                        United States   \n",
       "39271       713                        United States   \n",
       "41240      1200                               Sweden   \n",
       "42871       705         Great Britain, United States   \n",
       "\n",
       "                                                director  \\\n",
       "23844                                        Edgar Reitz   \n",
       "23845                                        Edgar Reitz   \n",
       "23846                                    Jacques Rivette   \n",
       "24019                                        Edgar Reitz   \n",
       "27462                                      Peter R. Hunt   \n",
       "27639              Geoff Bennett, Tony Tilse, Ian Watson   \n",
       "39271                                       Oliver Stone   \n",
       "41240                                     Lars Lundström   \n",
       "42871  Phil Alden Robinson, Richard Loncraine, Mikael...   \n",
       "\n",
       "                                                  actors  avg_vote  votes  \n",
       "23844  Marita Breuer, Gertrud Bredel, Michael Lesch, ...       9.0     39  \n",
       "23845  Henry Arnold, Salome Kammer, Anke Sevenich, No...       9.2     17  \n",
       "23846  Pierre Baillot, Juliet Berto, Marcel Bonozet, ...       7.8      8  \n",
       "24019  Henry Arnold, Salome Kammer, Michael Kausch He...       8.2     15  \n",
       "27462  Olivia Hussey, Ernest Borgnine, Lesley-Anne Do...       6.0      1  \n",
       "27639  Ben Browder, Virginia Hey, Wayne Pigram, Claud...       8.0      1  \n",
       "39271  Oliver Stone, Alan Shearman, Jim Ward, André S...       8.5      6  \n",
       "41240  Lisette Pagler, Pia Halvorsen, Johan Paulsen, ...       8.0      2  \n",
       "42871  Scott Grimes, Matthew Leitch, Damian Lewis, Ro...       8.4     23  "
      ]
     },
     "execution_count": 17,
     "metadata": {},
     "output_type": "execute_result"
    }
   ],
   "source": [
    "df.loc[df['duration'] > 600, :]"
   ]
  },
  {
   "cell_type": "code",
   "execution_count": 18,
   "metadata": {},
   "outputs": [
    {
     "data": {
      "image/png": "[encoded data removed]",
      "text/plain": [
       "<Figure size 432x288 with 1 Axes>"
      ]
     },
     "metadata": {
      "needs_background": "light"
     },
     "output_type": "display_data"
    }
   ],
   "source": [
    "duration_new = duration[duration<600]\n",
    "year_new = year[duration<600]\n",
    "\n",
    "fig, ax = plt.subplots()\n",
    "ax.scatter(duration_new, year_new, c='red', alpha=0.3, edgecolors='none')\n",
    "\n",
    "ax.grid(True)\n",
    "plt.xlabel('duration')\n",
    "plt.ylabel('year')\n",
    "plt.show()"
   ]
  },
  {
   "cell_type": "code",
   "execution_count": 66,
   "metadata": {},
   "outputs": [
    {
     "data": {
      "image/png": "[encoded data removed]",
      "text/plain": [
       "<Figure size 432x288 with 1 Axes>"
      ]
     },
     "metadata": {
      "needs_background": "light"
     },
     "output_type": "display_data"
    }
   ],
   "source": [
    "x = np.arange(40, 200, 8)\n",
    "\n",
    "plt.hist(duration_new, x)\n",
    "plt.xlabel('Интервал выборки')\n",
    "plt.ylabel('Количество элементов')\n",
    "plt.grid(True)\n",
    "\n",
    "plt.show()"
   ]
  },
  {
   "cell_type": "markdown",
   "metadata": {},
   "source": [
    "Распределение биномиальное"
   ]
  },
  {
   "cell_type": "markdown",
   "metadata": {},
   "source": [
    "## Диаграмма рассеяния "
   ]
  },
  {
   "cell_type": "code",
   "execution_count": 19,
   "metadata": {},
   "outputs": [
    {
     "data": {
      "text/plain": [
       "<matplotlib.collections.PathCollection at 0x7f8c48552b50>"
      ]
     },
     "execution_count": 19,
     "metadata": {},
     "output_type": "execute_result"
    },
    {
     "data": {
      "image/png": "[encoded data removed]",
      "text/plain": [
       "<Figure size 432x288 with 1 Axes>"
      ]
     },
     "metadata": {
      "needs_background": "light"
     },
     "output_type": "display_data"
    }
   ],
   "source": [
    "len_column = len(duration_new)\n",
    "x = np.linspace(0, len_column, len_column)\n",
    "plt.scatter(x, duration_new, marker='.')"
   ]
  },
  {
   "cell_type": "code",
   "execution_count": 20,
   "metadata": {},
   "outputs": [
    {
     "data": {
      "image/png": "[encoded data removed]",
      "text/plain": [
       "<Figure size 432x288 with 1 Axes>"
      ]
     },
     "metadata": {
      "needs_background": "light"
     },
     "output_type": "display_data"
    }
   ],
   "source": [
    "values = []\n",
    "x = np.arange(1, 7, 0.2)\n",
    "\n",
    "for i in range(10):\n",
    "    values.append(random.randint(1, 6))\n",
    "    \n",
    "s = pd.Series(values)\n",
    "plt.hist(s, x)\n",
    "plt.xlabel('frequency')\n",
    "plt.ylabel('series')\n",
    "plt.title('График 10 подбрасываний кубика')\n",
    "plt.grid(True)\n",
    "plt.show()"
   ]
  },
  {
   "cell_type": "code",
   "execution_count": 21,
   "metadata": {},
   "outputs": [
    {
     "data": {
      "image/png": "[encoded data removed]",
      "text/plain": [
       "<Figure size 432x288 with 1 Axes>"
      ]
     },
     "metadata": {
      "needs_background": "light"
     },
     "output_type": "display_data"
    }
   ],
   "source": [
    "values = []\n",
    "x = np.arange(300, 400, 1)\n",
    "\n",
    "for i in range(1000):\n",
    "    s = 0\n",
    "    for i in range(100):\n",
    "        s += random.randint(1, 6)\n",
    "    values.append(s)\n",
    "\n",
    "s = pd.Series(values)\n",
    "\n",
    "plt.hist(s, x)\n",
    "plt.xlabel('frequency')\n",
    "plt.ylabel('series')\n",
    "plt.title('График суммы 1000 по 100 подбрасываний кубика')\n",
    "plt.grid(True)\n",
    "plt.show()"
   ]
  },
  {
   "cell_type": "markdown",
   "metadata": {},
   "source": [
    "Моделирование подтверждает центрально-предельную теорему - сумма достаточно большого количества слабо зависимых случайных величин, имеющих примерно одинаковые масштабы, имеет распределение близкое к нормальному"
   ]
  },
  {
   "cell_type": "code",
   "execution_count": null,
   "metadata": {},
   "outputs": [],
   "source": []
  }
 ],
 "metadata": {
  "kernelspec": {
   "display_name": "Python 3",
   "language": "python",
   "name": "python3"
  },
  "language_info": {
   "codemirror_mode": {
    "name": "ipython",
    "version": 3
   },
   "file_extension": ".py",
   "mimetype": "text/x-python",
   "name": "python",
   "nbconvert_exporter": "python",
   "pygments_lexer": "ipython3",
   "version": "3.8.5"
  }
 },
 "nbformat": 4,
 "nbformat_minor": 4
}
